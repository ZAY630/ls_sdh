{
 "cells": [
  {
   "cell_type": "code",
   "execution_count": 12,
   "id": "4a70f793",
   "metadata": {},
   "outputs": [],
   "source": [
    "import brickschema\n",
    "from tqdm import tqdm\n",
    "from smap.archiver.client import SmapClient\n",
    "from smap.contrib import dtutil\n",
    "import pandas as pd"
   ]
  },
  {
   "cell_type": "code",
   "execution_count": 13,
   "id": "5dd34409-fc2b-4c5f-8d31-e68c613abe07",
   "metadata": {},
   "outputs": [
    {
     "data": {
      "text/plain": [
       "<Graph identifier=Nb6080cbe431143caaf83f3428da14a62 (<class 'brickschema.graph.Graph'>)>"
      ]
     },
     "execution_count": 13,
     "metadata": {},
     "output_type": "execute_result"
    }
   ],
   "source": [
    "g = brickschema.Graph()\n",
    "g.load_file('2022_sdh_brick_expanded.ttl')"
   ]
  },
  {
   "cell_type": "code",
   "execution_count": 14,
   "id": "5ae9289a-46b5-4a47-ad19-39a7f57a6b84",
   "metadata": {},
   "outputs": [],
   "source": [
    "# Query test 1\n",
    "# query1 = g.query(\n",
    "#     \"\"\"SELECT ?CH ?points WHERE {\n",
    "#     ?CH a brick:Chiller .\n",
    "#     ?CH brick:hasPoint ?points .\n",
    "# }\"\"\"\n",
    "# )\n",
    "\n",
    "# print(\"\\nQuery test 1 results:\")\n",
    "# for row in query1:\n",
    "#     print(row)"
   ]
  },
  {
   "cell_type": "code",
   "execution_count": 24,
   "id": "00606de8-7b93-4694-9eb5-6b10d2e82e14",
   "metadata": {},
   "outputs": [
    {
     "name": "stdout",
     "output_type": "stream",
     "text": [
      "\n",
      "Query test 1 results:\n"
     ]
    },
    {
     "ename": "KeyboardInterrupt",
     "evalue": "",
     "output_type": "error",
     "traceback": [
      "\u001b[0;31m---------------------------------------------------------------------------\u001b[0m",
      "\u001b[0;31mKeyboardInterrupt\u001b[0m                         Traceback (most recent call last)",
      "Cell \u001b[0;32mIn[24], line 24\u001b[0m\n\u001b[1;32m      2\u001b[0m zoneT_query \u001b[38;5;241m=\u001b[39m g\u001b[38;5;241m.\u001b[39mquery(\n\u001b[1;32m      3\u001b[0m \u001b[38;5;250m    \u001b[39m\u001b[38;5;124;03m\"\"\"SELECT DISTINCT ?ahu ?zone ?sensor ?bacnet_addr ?bacnect_instance ?bacnect_id WHERE {\u001b[39;00m\n\u001b[1;32m      4\u001b[0m \u001b[38;5;124;03m    ?ahu            rdf:type                        brick:AHU .\u001b[39;00m\n\u001b[0;32m   (...)\u001b[0m\n\u001b[1;32m     19\u001b[0m \u001b[38;5;124;03m}\"\"\"\u001b[39;00m\n\u001b[1;32m     20\u001b[0m )\n\u001b[1;32m     22\u001b[0m \u001b[38;5;28mprint\u001b[39m(\u001b[38;5;124m\"\u001b[39m\u001b[38;5;130;01m\\n\u001b[39;00m\u001b[38;5;124mQuery test 1 results:\u001b[39m\u001b[38;5;124m\"\u001b[39m)\n\u001b[0;32m---> 24\u001b[0m \u001b[38;5;28;01mfor\u001b[39;00m row \u001b[38;5;129;01min\u001b[39;00m \u001b[43mtqdm\u001b[49m\u001b[43m(\u001b[49m\u001b[43mzoneT_query\u001b[49m\u001b[43m)\u001b[49m:\n\u001b[1;32m     25\u001b[0m     \u001b[38;5;28mprint\u001b[39m(row)\n",
      "File \u001b[0;32m~/opt/anaconda3/envs/venv/lib/python3.8/site-packages/tqdm/std.py:978\u001b[0m, in \u001b[0;36mtqdm.__init__\u001b[0;34m(self, iterable, desc, total, leave, file, ncols, mininterval, maxinterval, miniters, ascii, disable, unit, unit_scale, dynamic_ncols, smoothing, bar_format, initial, position, postfix, unit_divisor, write_bytes, lock_args, nrows, colour, delay, gui, **kwargs)\u001b[0m\n\u001b[1;32m    976\u001b[0m \u001b[38;5;28;01mif\u001b[39;00m total \u001b[38;5;129;01mis\u001b[39;00m \u001b[38;5;28;01mNone\u001b[39;00m \u001b[38;5;129;01mand\u001b[39;00m iterable \u001b[38;5;129;01mis\u001b[39;00m \u001b[38;5;129;01mnot\u001b[39;00m \u001b[38;5;28;01mNone\u001b[39;00m:\n\u001b[1;32m    977\u001b[0m     \u001b[38;5;28;01mtry\u001b[39;00m:\n\u001b[0;32m--> 978\u001b[0m         total \u001b[38;5;241m=\u001b[39m \u001b[38;5;28;43mlen\u001b[39;49m\u001b[43m(\u001b[49m\u001b[43miterable\u001b[49m\u001b[43m)\u001b[49m\n\u001b[1;32m    979\u001b[0m     \u001b[38;5;28;01mexcept\u001b[39;00m (\u001b[38;5;167;01mTypeError\u001b[39;00m, \u001b[38;5;167;01mAttributeError\u001b[39;00m):\n\u001b[1;32m    980\u001b[0m         total \u001b[38;5;241m=\u001b[39m \u001b[38;5;28;01mNone\u001b[39;00m\n",
      "File \u001b[0;32m~/opt/anaconda3/envs/venv/lib/python3.8/site-packages/rdflib/query.py:347\u001b[0m, in \u001b[0;36mResult.__len__\u001b[0;34m(self)\u001b[0m\n\u001b[1;32m    345\u001b[0m     \u001b[38;5;28;01mreturn\u001b[39;00m \u001b[38;5;241m1\u001b[39m\n\u001b[1;32m    346\u001b[0m \u001b[38;5;28;01melif\u001b[39;00m \u001b[38;5;28mself\u001b[39m\u001b[38;5;241m.\u001b[39mtype \u001b[38;5;241m==\u001b[39m \u001b[38;5;124m\"\u001b[39m\u001b[38;5;124mSELECT\u001b[39m\u001b[38;5;124m\"\u001b[39m:\n\u001b[0;32m--> 347\u001b[0m     \u001b[38;5;28;01mreturn\u001b[39;00m \u001b[38;5;28mlen\u001b[39m(\u001b[38;5;28;43mself\u001b[39;49m\u001b[38;5;241;43m.\u001b[39;49m\u001b[43mbindings\u001b[49m)\n\u001b[1;32m    348\u001b[0m \u001b[38;5;28;01melse\u001b[39;00m:\n\u001b[1;32m    349\u001b[0m     \u001b[38;5;66;03m# type error: Argument 1 to \"len\" has incompatible type \"Optional[Graph]\"; expected \"Sized\"\u001b[39;00m\n\u001b[1;32m    350\u001b[0m     \u001b[38;5;28;01mreturn\u001b[39;00m \u001b[38;5;28mlen\u001b[39m(\u001b[38;5;28mself\u001b[39m\u001b[38;5;241m.\u001b[39mgraph)\n",
      "File \u001b[0;32m~/opt/anaconda3/envs/venv/lib/python3.8/site-packages/rdflib/query.py:242\u001b[0m, in \u001b[0;36mResult.bindings\u001b[0;34m(self)\u001b[0m\n\u001b[1;32m    238\u001b[0m \u001b[38;5;250m\u001b[39m\u001b[38;5;124;03m\"\"\"\u001b[39;00m\n\u001b[1;32m    239\u001b[0m \u001b[38;5;124;03ma list of variable bindings as dicts\u001b[39;00m\n\u001b[1;32m    240\u001b[0m \u001b[38;5;124;03m\"\"\"\u001b[39;00m\n\u001b[1;32m    241\u001b[0m \u001b[38;5;28;01mif\u001b[39;00m \u001b[38;5;28mself\u001b[39m\u001b[38;5;241m.\u001b[39m_genbindings:\n\u001b[0;32m--> 242\u001b[0m     \u001b[38;5;28mself\u001b[39m\u001b[38;5;241m.\u001b[39m_bindings \u001b[38;5;241m+\u001b[39m\u001b[38;5;241m=\u001b[39m \u001b[38;5;28;43mlist\u001b[39;49m\u001b[43m(\u001b[49m\u001b[38;5;28;43mself\u001b[39;49m\u001b[38;5;241;43m.\u001b[39;49m\u001b[43m_genbindings\u001b[49m\u001b[43m)\u001b[49m\n\u001b[1;32m    243\u001b[0m     \u001b[38;5;28mself\u001b[39m\u001b[38;5;241m.\u001b[39m_genbindings \u001b[38;5;241m=\u001b[39m \u001b[38;5;28;01mNone\u001b[39;00m\n\u001b[1;32m    245\u001b[0m \u001b[38;5;28;01mreturn\u001b[39;00m \u001b[38;5;28mself\u001b[39m\u001b[38;5;241m.\u001b[39m_bindings\n",
      "File \u001b[0;32m~/opt/anaconda3/envs/venv/lib/python3.8/site-packages/rdflib/plugins/sparql/evaluate.py:554\u001b[0m, in \u001b[0;36mevalDistinct\u001b[0;34m(ctx, part)\u001b[0m\n\u001b[1;32m    551\u001b[0m res \u001b[38;5;241m=\u001b[39m evalPart(ctx, part\u001b[38;5;241m.\u001b[39mp)\n\u001b[1;32m    553\u001b[0m done \u001b[38;5;241m=\u001b[39m \u001b[38;5;28mset\u001b[39m()\n\u001b[0;32m--> 554\u001b[0m \u001b[38;5;28;01mfor\u001b[39;00m x \u001b[38;5;129;01min\u001b[39;00m res:\n\u001b[1;32m    555\u001b[0m     \u001b[38;5;28;01mif\u001b[39;00m x \u001b[38;5;129;01mnot\u001b[39;00m \u001b[38;5;129;01min\u001b[39;00m done:\n\u001b[1;32m    556\u001b[0m         \u001b[38;5;28;01myield\u001b[39;00m x\n",
      "File \u001b[0;32m~/opt/anaconda3/envs/venv/lib/python3.8/site-packages/rdflib/plugins/sparql/evaluate.py:562\u001b[0m, in \u001b[0;36m<genexpr>\u001b[0;34m(.0)\u001b[0m\n\u001b[1;32m    560\u001b[0m \u001b[38;5;28;01mdef\u001b[39;00m \u001b[38;5;21mevalProject\u001b[39m(ctx: QueryContext, project: CompValue):\n\u001b[1;32m    561\u001b[0m     res \u001b[38;5;241m=\u001b[39m evalPart(ctx, project\u001b[38;5;241m.\u001b[39mp)\n\u001b[0;32m--> 562\u001b[0m     \u001b[38;5;28;01mreturn\u001b[39;00m (\u001b[43mrow\u001b[49m\u001b[38;5;241;43m.\u001b[39;49m\u001b[43mproject\u001b[49m\u001b[43m(\u001b[49m\u001b[43mproject\u001b[49m\u001b[38;5;241;43m.\u001b[39;49m\u001b[43mPV\u001b[49m\u001b[43m)\u001b[49m \u001b[38;5;28;01mfor\u001b[39;00m row \u001b[38;5;129;01min\u001b[39;00m res)\n",
      "File \u001b[0;32m~/opt/anaconda3/envs/venv/lib/python3.8/site-packages/rdflib/plugins/sparql/sparql.py:199\u001b[0m, in \u001b[0;36mFrozenBindings.project\u001b[0;34m(self, vars)\u001b[0m\n\u001b[1;32m    198\u001b[0m \u001b[38;5;28;01mdef\u001b[39;00m \u001b[38;5;21mproject\u001b[39m(\u001b[38;5;28mself\u001b[39m, \u001b[38;5;28mvars\u001b[39m: Container[Variable]) \u001b[38;5;241m-\u001b[39m\u001b[38;5;241m>\u001b[39m \u001b[38;5;124m\"\u001b[39m\u001b[38;5;124mFrozenBindings\u001b[39m\u001b[38;5;124m\"\u001b[39m:\n\u001b[0;32m--> 199\u001b[0m     \u001b[38;5;28;01mreturn\u001b[39;00m \u001b[43mFrozenBindings\u001b[49m\u001b[43m(\u001b[49m\u001b[38;5;28;43mself\u001b[39;49m\u001b[38;5;241;43m.\u001b[39;49m\u001b[43mctx\u001b[49m\u001b[43m,\u001b[49m\u001b[43m \u001b[49m\u001b[43m(\u001b[49m\u001b[43mx\u001b[49m\u001b[43m \u001b[49m\u001b[38;5;28;43;01mfor\u001b[39;49;00m\u001b[43m \u001b[49m\u001b[43mx\u001b[49m\u001b[43m \u001b[49m\u001b[38;5;129;43;01min\u001b[39;49;00m\u001b[43m \u001b[49m\u001b[38;5;28;43mself\u001b[39;49m\u001b[38;5;241;43m.\u001b[39;49m\u001b[43mitems\u001b[49m\u001b[43m(\u001b[49m\u001b[43m)\u001b[49m\u001b[43m \u001b[49m\u001b[38;5;28;43;01mif\u001b[39;49;00m\u001b[43m \u001b[49m\u001b[43mx\u001b[49m\u001b[43m[\u001b[49m\u001b[38;5;241;43m0\u001b[39;49m\u001b[43m]\u001b[49m\u001b[43m \u001b[49m\u001b[38;5;129;43;01min\u001b[39;49;00m\u001b[43m \u001b[49m\u001b[38;5;28;43mvars\u001b[39;49m\u001b[43m)\u001b[49m\u001b[43m)\u001b[49m\n",
      "File \u001b[0;32m~/opt/anaconda3/envs/venv/lib/python3.8/site-packages/rdflib/plugins/sparql/sparql.py:181\u001b[0m, in \u001b[0;36mFrozenBindings.__init__\u001b[0;34m(self, ctx, *args, **kwargs)\u001b[0m\n\u001b[1;32m    180\u001b[0m \u001b[38;5;28;01mdef\u001b[39;00m \u001b[38;5;21m__init__\u001b[39m(\u001b[38;5;28mself\u001b[39m, ctx: \u001b[38;5;124m\"\u001b[39m\u001b[38;5;124mQueryContext\u001b[39m\u001b[38;5;124m\"\u001b[39m, \u001b[38;5;241m*\u001b[39margs, \u001b[38;5;241m*\u001b[39m\u001b[38;5;241m*\u001b[39mkwargs):\n\u001b[0;32m--> 181\u001b[0m     \u001b[43mFrozenDict\u001b[49m\u001b[38;5;241;43m.\u001b[39;49m\u001b[38;5;21;43m__init__\u001b[39;49m\u001b[43m(\u001b[49m\u001b[38;5;28;43mself\u001b[39;49m\u001b[43m,\u001b[49m\u001b[43m \u001b[49m\u001b[38;5;241;43m*\u001b[39;49m\u001b[43margs\u001b[49m\u001b[43m,\u001b[49m\u001b[43m \u001b[49m\u001b[38;5;241;43m*\u001b[39;49m\u001b[38;5;241;43m*\u001b[39;49m\u001b[43mkwargs\u001b[49m\u001b[43m)\u001b[49m\n\u001b[1;32m    182\u001b[0m     \u001b[38;5;28mself\u001b[39m\u001b[38;5;241m.\u001b[39mctx \u001b[38;5;241m=\u001b[39m ctx\n",
      "File \u001b[0;32m~/opt/anaconda3/envs/venv/lib/python3.8/site-packages/rdflib/plugins/sparql/sparql.py:126\u001b[0m, in \u001b[0;36mFrozenDict.__init__\u001b[0;34m(self, *args, **kwargs)\u001b[0m\n\u001b[1;32m    125\u001b[0m \u001b[38;5;28;01mdef\u001b[39;00m \u001b[38;5;21m__init__\u001b[39m(\u001b[38;5;28mself\u001b[39m, \u001b[38;5;241m*\u001b[39margs: Any, \u001b[38;5;241m*\u001b[39m\u001b[38;5;241m*\u001b[39mkwargs: Any):\n\u001b[0;32m--> 126\u001b[0m     \u001b[38;5;28mself\u001b[39m\u001b[38;5;241m.\u001b[39m_d: Dict[Identifier, Identifier] \u001b[38;5;241m=\u001b[39m \u001b[38;5;28;43mdict\u001b[39;49m\u001b[43m(\u001b[49m\u001b[38;5;241;43m*\u001b[39;49m\u001b[43margs\u001b[49m\u001b[43m,\u001b[49m\u001b[43m \u001b[49m\u001b[38;5;241;43m*\u001b[39;49m\u001b[38;5;241;43m*\u001b[39;49m\u001b[43mkwargs\u001b[49m\u001b[43m)\u001b[49m\n\u001b[1;32m    127\u001b[0m     \u001b[38;5;28mself\u001b[39m\u001b[38;5;241m.\u001b[39m_hash: Optional[\u001b[38;5;28mint\u001b[39m] \u001b[38;5;241m=\u001b[39m \u001b[38;5;28;01mNone\u001b[39;00m\n",
      "File \u001b[0;32m~/opt/anaconda3/envs/venv/lib/python3.8/site-packages/rdflib/plugins/sparql/sparql.py:199\u001b[0m, in \u001b[0;36m<genexpr>\u001b[0;34m(.0)\u001b[0m\n\u001b[1;32m    198\u001b[0m \u001b[38;5;28;01mdef\u001b[39;00m \u001b[38;5;21mproject\u001b[39m(\u001b[38;5;28mself\u001b[39m, \u001b[38;5;28mvars\u001b[39m: Container[Variable]) \u001b[38;5;241m-\u001b[39m\u001b[38;5;241m>\u001b[39m \u001b[38;5;124m\"\u001b[39m\u001b[38;5;124mFrozenBindings\u001b[39m\u001b[38;5;124m\"\u001b[39m:\n\u001b[0;32m--> 199\u001b[0m     \u001b[38;5;28;01mreturn\u001b[39;00m FrozenBindings(\u001b[38;5;28mself\u001b[39m\u001b[38;5;241m.\u001b[39mctx, (x \u001b[38;5;28;01mfor\u001b[39;00m x \u001b[38;5;129;01min\u001b[39;00m \u001b[38;5;28mself\u001b[39m\u001b[38;5;241m.\u001b[39mitems() \u001b[38;5;28;01mif\u001b[39;00m \u001b[43mx\u001b[49m\u001b[43m[\u001b[49m\u001b[38;5;241;43m0\u001b[39;49m\u001b[43m]\u001b[49m\u001b[43m \u001b[49m\u001b[38;5;129;43;01min\u001b[39;49;00m\u001b[43m \u001b[49m\u001b[38;5;28;43mvars\u001b[39;49m))\n",
      "File \u001b[0;32m~/opt/anaconda3/envs/venv/lib/python3.8/site-packages/rdflib/term.py:175\u001b[0m, in \u001b[0;36mIdentifier.__eq__\u001b[0;34m(self, other)\u001b[0m\n\u001b[1;32m    155\u001b[0m \u001b[38;5;250m\u001b[39m\u001b[38;5;124;03m\"\"\"\u001b[39;00m\n\u001b[1;32m    156\u001b[0m \u001b[38;5;124;03mEquality for Nodes.\u001b[39;00m\n\u001b[1;32m    157\u001b[0m \n\u001b[0;32m   (...)\u001b[0m\n\u001b[1;32m    171\u001b[0m \u001b[38;5;124;03mFalse\u001b[39;00m\n\u001b[1;32m    172\u001b[0m \u001b[38;5;124;03m\"\"\"\u001b[39;00m\n\u001b[1;32m    174\u001b[0m \u001b[38;5;28;01mif\u001b[39;00m \u001b[38;5;28mtype\u001b[39m(\u001b[38;5;28mself\u001b[39m) \u001b[38;5;241m==\u001b[39m \u001b[38;5;28mtype\u001b[39m(other):\n\u001b[0;32m--> 175\u001b[0m     \u001b[38;5;28;01mreturn\u001b[39;00m \u001b[38;5;28mstr\u001b[39m(\u001b[38;5;28mself\u001b[39m) \u001b[38;5;241m==\u001b[39m \u001b[38;5;28;43mstr\u001b[39;49m(other)\n\u001b[1;32m    176\u001b[0m \u001b[38;5;28;01melse\u001b[39;00m:\n\u001b[1;32m    177\u001b[0m     \u001b[38;5;28;01mreturn\u001b[39;00m \u001b[38;5;28;01mFalse\u001b[39;00m\n",
      "\u001b[0;31mKeyboardInterrupt\u001b[0m: "
     ]
    }
   ],
   "source": [
    "# Query for return temperature (approximated from zone temperature)\n",
    "zoneT_query = g.query(\n",
    "    \"\"\"SELECT DISTINCT ?ahu ?zone ?sensor ?bacnet_addr ?bacnect_instance ?bacnect_id WHERE {\n",
    "    ?ahu            rdf:type                        brick:AHU .\n",
    "    ?zone           rdf:type                        brick:HVAC_Zone .\n",
    "    ?sensor         rdf:type/rdfs:subClassOf*       brick:Zone_Air_Temperature_Sensor .\n",
    "    ?ahu            brick:feeds                     ?vav .\n",
    "    ?vav            rdf:type                        brick:VAV .\n",
    "    ?vav            brick:feeds                     ?zone .\n",
    "    ?zone           brick:hasPoint                  ?sensor .\n",
    "    VALUES          ?req_point                      ?sensor .\n",
    "    ?sensor         brick:bacnetPoint               ?bacnet_id .\n",
    "    ?bacnet_id      brick:hasBacnetDeviceInstance   ?bacnet_instance .\n",
    "    ?bacnet_id      brick:hasBacnetDeviceType       ?bacnet_type .\n",
    "    ?bacnet_id      brick:accessedAt                ?bacnet_net .\n",
    "    ?bacnet_net     sdh:connstring                  ?bacnet_addr .\n",
    "}\"\"\"\n",
    ")\n",
    "\n",
    "print(\"\\nQuery test 1 results:\")\n",
    "\n",
    "for row in tqdm(zoneT_query):\n",
    "    print(row)"
   ]
  },
  {
   "cell_type": "code",
   "execution_count": 178,
   "id": "11d1c318",
   "metadata": {},
   "outputs": [],
   "source": [
    "# Query for zone supply temperature and return temperature\n",
    "sat_query = g.query(\n",
    "    \"\"\"SELECT DISTINCT ?ahu ?sensor ?bacnet_id ?bacnet_instance WHERE {\n",
    "    ?ahu            rdf:type                        brick:AHU .\n",
    "    ?sensor         rdf:type/rdfs:subClassOf*       brick:Supply_Air_Temperature_Sensor .\n",
    "    ?ahu            brick:hasPoint                  ?sensor .\n",
    "    ?sensor         brick:bacnetPoint               ?bacnet_id .\n",
    "    ?bacnet_id      brick:hasBacnetDeviceInstance   ?bacnet_instance .\n",
    "    ?bacnet_id      brick:hasBacnetDeviceType       ?bacnet_type .\n",
    "    ?bacnet_id      brick:accessedAt                ?bacnet_net .\n",
    "    ?bacnet_net     sdh:connstring                  ?bacnet_addr .\n",
    "}\"\"\"\n",
    ")\n",
    "\n",
    "df = pd.DataFrame(sat_query, columns=[str(s) for s in sat_query.vars])\n",
    "point_name = []\n",
    "for i in range(len(df)):\n",
    "    point_name.append(df.sensor.str.split(\"/\", expand=False)[i][4].split(\"#\")[1])\n",
    "df['point_name'] = point_name\n",
    "df[\"bacnet_instance\"] = df[\"bacnet_instance\"].astype(int).astype(str)"
   ]
  },
  {
   "cell_type": "code",
   "execution_count": 172,
   "id": "fb3c7efb",
   "metadata": {},
   "outputs": [],
   "source": [
    "def get_paths_from_tags(tags):\n",
    "    paths = {key: tags[key][\"Path\"] for key in tags}\n",
    "    paths = pd.DataFrame.from_dict(paths, orient='index', columns=['path'])\n",
    "    new_cols = [\"empty\", \"site\", \"device_number\", \"point_name\", \"bacnet_instance\", \"property_name\"]\n",
    "\n",
    "    # adjustments to dataframe\n",
    "    paths[new_cols] = paths.path.str.split(\"/\", expand=True)\n",
    "    paths = paths.drop(columns=[\"empty\"])\n",
    "    paths['point_name'] = paths['point_name'].str.replace('SDH.', '', regex=False)\n",
    "    return paths"
   ]
  },
  {
   "cell_type": "code",
   "execution_count": 173,
   "id": "24c160e5",
   "metadata": {},
   "outputs": [],
   "source": [
    "def get_data_from_smap(points_to_download, paths, smap_client, start, end):\n",
    "    df_combine = pd.merge(paths.reset_index(), points_to_download, how='inner', on=['bacnet_instance', 'point_name'])\n",
    "    df_combine = df_combine[df_combine['property_name'] == 'presentValue']\n",
    "\n",
    "    # combine the data frames\n",
    "\n",
    "    # get data from smap\n",
    "    data = smap_client.data_uuid(df_combine[\"index\"], start, end, cache=False)\n",
    "    return df_combine, data"
   ]
  },
  {
   "cell_type": "code",
   "execution_count": 174,
   "id": "6ff30521",
   "metadata": {},
   "outputs": [],
   "source": [
    "url = \"http://178.128.64.40:8079\"\n",
    "keyStr = \"B7qm4nnyPVZXbSfXo14sBZ5laV7YY5vjO19G\"\n",
    "where = \"Metadata/SourceName = 'Field Study 5a'\"\n",
    "start = dtutil.dt2ts(dtutil.strptime_tz(\"2023-01-20\", \"%Y-%m-%d\"))\n",
    "end = dtutil.dt2ts(dtutil.strptime_tz(\"2023-01-25\", \"%Y-%m-%d\"))"
   ]
  },
  {
   "cell_type": "code",
   "execution_count": 175,
   "id": "02889dd5",
   "metadata": {},
   "outputs": [],
   "source": [
    "smap_client = SmapClient(url, key=keyStr)\n",
    "tags = smap_client.tags(where, asdict=True)\n",
    "paths = get_paths_from_tags(tags)\n",
    "points_to_download, data = get_data_from_smap(df, paths, smap_client, start, end)"
   ]
  }
 ],
 "metadata": {
  "kernelspec": {
   "display_name": "Python 3 (ipykernel)",
   "language": "python",
   "name": "python3"
  },
  "language_info": {
   "codemirror_mode": {
    "name": "ipython",
    "version": 3
   },
   "file_extension": ".py",
   "mimetype": "text/x-python",
   "name": "python",
   "nbconvert_exporter": "python",
   "pygments_lexer": "ipython3",
   "version": "3.8.18"
  }
 },
 "nbformat": 4,
 "nbformat_minor": 5
}
